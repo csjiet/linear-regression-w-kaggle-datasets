{
 "cells": [
  {
   "cell_type": "code",
   "execution_count": 1,
   "id": "61b50966",
   "metadata": {},
   "outputs": [],
   "source": [
    "import numpy as np\n",
    "import matplotlib.pyplot as plt\n",
    "import pandas as pd"
   ]
  },
  {
   "cell_type": "markdown",
   "id": "8f5a96c6",
   "metadata": {},
   "source": [
    "## Importing data frame"
   ]
  },
  {
   "cell_type": "code",
   "execution_count": 2,
   "id": "28a43a48",
   "metadata": {},
   "outputs": [],
   "source": [
    "df = pd.read_csv(\"./tvmarketing.csv\") # Kaggle"
   ]
  },
  {
   "cell_type": "code",
   "execution_count": 3,
   "id": "9487d652",
   "metadata": {},
   "outputs": [
    {
     "data": {
      "text/html": [
       "<div>\n",
       "<style scoped>\n",
       "    .dataframe tbody tr th:only-of-type {\n",
       "        vertical-align: middle;\n",
       "    }\n",
       "\n",
       "    .dataframe tbody tr th {\n",
       "        vertical-align: top;\n",
       "    }\n",
       "\n",
       "    .dataframe thead th {\n",
       "        text-align: right;\n",
       "    }\n",
       "</style>\n",
       "<table border=\"1\" class=\"dataframe\">\n",
       "  <thead>\n",
       "    <tr style=\"text-align: right;\">\n",
       "      <th></th>\n",
       "      <th>TV</th>\n",
       "      <th>Sales</th>\n",
       "    </tr>\n",
       "  </thead>\n",
       "  <tbody>\n",
       "    <tr>\n",
       "      <th>0</th>\n",
       "      <td>230.1</td>\n",
       "      <td>22.1</td>\n",
       "    </tr>\n",
       "    <tr>\n",
       "      <th>1</th>\n",
       "      <td>44.5</td>\n",
       "      <td>10.4</td>\n",
       "    </tr>\n",
       "    <tr>\n",
       "      <th>2</th>\n",
       "      <td>17.2</td>\n",
       "      <td>9.3</td>\n",
       "    </tr>\n",
       "    <tr>\n",
       "      <th>3</th>\n",
       "      <td>151.5</td>\n",
       "      <td>18.5</td>\n",
       "    </tr>\n",
       "    <tr>\n",
       "      <th>4</th>\n",
       "      <td>180.8</td>\n",
       "      <td>12.9</td>\n",
       "    </tr>\n",
       "  </tbody>\n",
       "</table>\n",
       "</div>"
      ],
      "text/plain": [
       "      TV  Sales\n",
       "0  230.1   22.1\n",
       "1   44.5   10.4\n",
       "2   17.2    9.3\n",
       "3  151.5   18.5\n",
       "4  180.8   12.9"
      ]
     },
     "execution_count": 3,
     "metadata": {},
     "output_type": "execute_result"
    }
   ],
   "source": [
    "df.head()"
   ]
  },
  {
   "cell_type": "code",
   "execution_count": 4,
   "id": "5ec0f7f9",
   "metadata": {},
   "outputs": [
    {
     "name": "stdout",
     "output_type": "stream",
     "text": [
      "<class 'pandas.core.frame.DataFrame'>\n",
      "RangeIndex: 200 entries, 0 to 199\n",
      "Data columns (total 2 columns):\n",
      " #   Column  Non-Null Count  Dtype  \n",
      "---  ------  --------------  -----  \n",
      " 0   TV      200 non-null    float64\n",
      " 1   Sales   200 non-null    float64\n",
      "dtypes: float64(2)\n",
      "memory usage: 3.2 KB\n"
     ]
    }
   ],
   "source": [
    "df.info()"
   ]
  },
  {
   "cell_type": "markdown",
   "id": "1f06f107",
   "metadata": {},
   "source": [
    "## Reading column data into numpy arrays "
   ]
  },
  {
   "cell_type": "code",
   "execution_count": 5,
   "id": "c714eb47",
   "metadata": {},
   "outputs": [
    {
     "name": "stdout",
     "output_type": "stream",
     "text": [
      "(200,)\n",
      "(200,)\n"
     ]
    }
   ],
   "source": [
    "x = df['TV'].to_numpy()\n",
    "y = df['Sales'].to_numpy()\n",
    "\n",
    "print(x.shape)\n",
    "print(y.shape)"
   ]
  },
  {
   "cell_type": "code",
   "execution_count": 6,
   "id": "309bfb85",
   "metadata": {},
   "outputs": [
    {
     "data": {
      "image/png": "[encoded data removed]",
      "text/plain": [
       "<Figure size 640x480 with 1 Axes>"
      ]
     },
     "metadata": {},
     "output_type": "display_data"
    }
   ],
   "source": [
    "plt.scatter(x, y)\n",
    "plt.xlabel('TV')\n",
    "plt.ylabel('Sales')\n",
    "plt.show()"
   ]
  },
  {
   "cell_type": "code",
   "execution_count": 7,
   "id": "6f765551",
   "metadata": {},
   "outputs": [],
   "source": [
    "# training dataset size\n",
    "m = len(df) "
   ]
  },
  {
   "cell_type": "markdown",
   "id": "f84c707a",
   "metadata": {},
   "source": [
    "## Replicating the OLS Estimator: \n",
    "$$\\hat{{\\beta}}=\\left(\\mathbf{X}^{\\top} \\mathbf{X}\\right)^{-1} \\mathbf{X}^{\\top} \\mathbf{y} $$\n"
   ]
  },
  {
   "cell_type": "code",
   "execution_count": 8,
   "id": "adce1510",
   "metadata": {},
   "outputs": [
    {
     "name": "stdout",
     "output_type": "stream",
     "text": [
      "(200, 2)\n",
      "[[  1.  230.1]\n",
      " [  1.   44.5]\n",
      " [  1.   17.2]\n",
      " [  1.  151.5]\n",
      " [  1.  180.8]]\n"
     ]
    }
   ],
   "source": [
    "# Dependent variable (1D) - X matrix\n",
    "X = np.array([np.ones(m), x]) \n",
    "X = X.T # Transpose matrix to hold a shape of m x 2 to facilitate matrix multiplication of its transpose with vector y of shape m x 1 \n",
    "\n",
    "print(X.shape)\n",
    "print(X[:5]) # Check the first 5 rows of matrix X"
   ]
  },
  {
   "cell_type": "code",
   "execution_count": 9,
   "id": "6e74984c",
   "metadata": {},
   "outputs": [
    {
     "name": "stdout",
     "output_type": "stream",
     "text": [
      "(200, 1)\n",
      "[[22.1]\n",
      " [10.4]\n",
      " [ 9.3]\n",
      " [18.5]\n",
      " [12.9]]\n"
     ]
    }
   ],
   "source": [
    "# Independent variable - y vector\n",
    "Y = y[..., None]\n",
    "\n",
    "print(Y.shape)\n",
    "print(Y[:5]) # Check the first 5 rows of vector y"
   ]
  },
  {
   "cell_type": "code",
   "execution_count": 10,
   "id": "94eaaeb6",
   "metadata": {},
   "outputs": [
    {
     "name": "stdout",
     "output_type": "stream",
     "text": [
      "[7.03259355 0.04753664]\n"
     ]
    }
   ],
   "source": [
    "# Implementing OLS Estimator\n",
    "# 1D OLS parameters - [\\beta_{0}, \\beta_{1}], y-intercept and gradient respectively\n",
    "betas = np.linalg.inv(X.T @ X) @ X.T @ Y \n",
    "\n",
    "betas = betas.flatten()\n",
    "print(betas) # Learned coefficients/ parameters"
   ]
  },
  {
   "cell_type": "markdown",
   "id": "8af53237",
   "metadata": {},
   "source": [
    "# Plot linear regression function"
   ]
  },
  {
   "cell_type": "code",
   "execution_count": 11,
   "id": "f36ab187",
   "metadata": {},
   "outputs": [
    {
     "data": {
      "image/png": "[encoded data removed]",
      "text/plain": [
       "<Figure size 640x480 with 1 Axes>"
      ]
     },
     "metadata": {},
     "output_type": "display_data"
    }
   ],
   "source": [
    "plt.scatter(x, y) # Original dataset\n",
    "\n",
    "# Regression overlay\n",
    "x_r = np.linspace(0,350, num=10)\n",
    "\n",
    "# Regression function\n",
    "reg_func = lambda x: betas[0] + betas[1]*x\n",
    "\n",
    "y_r = np.array(list(map(reg_func, x_r)))\n",
    "\n",
    "plt.plot(x_r, y_r, c='red')\n",
    "\n",
    "plt.show()"
   ]
  },
  {
   "cell_type": "markdown",
   "id": "4d5c9315",
   "metadata": {},
   "source": [
    "# Compute sum of squared error\n",
    "\n",
    "$$RSS=\\sum \\limits_{i=1}^{n} (y_i-f(x_i))^2$$"
   ]
  },
  {
   "cell_type": "code",
   "execution_count": 12,
   "id": "26a26129",
   "metadata": {},
   "outputs": [
    {
     "name": "stdout",
     "output_type": "stream",
     "text": [
      "Cost: 2102.5305831313517\n"
     ]
    }
   ],
   "source": [
    "expected_y = y \n",
    "predicted_y = np.array(list(map(reg_func, x)))\n",
    "temp_result = np.subtract(expected_y, predicted_y)\n",
    "result = np.dot(temp_result, temp_result)\n",
    "\n",
    "print(f'Cost: {result}')"
   ]
  },
  {
   "cell_type": "code",
   "execution_count": null,
   "id": "db5441a3",
   "metadata": {},
   "outputs": [],
   "source": []
  }
 ],
 "metadata": {
  "kernelspec": {
   "display_name": "LinearRegressionPlayground",
   "language": "python",
   "name": "linearregressionplayground"
  },
  "language_info": {
   "codemirror_mode": {
    "name": "ipython",
    "version": 3
   },
   "file_extension": ".py",
   "mimetype": "text/x-python",
   "name": "python",
   "nbconvert_exporter": "python",
   "pygments_lexer": "ipython3",
   "version": "3.10.9"
  }
 },
 "nbformat": 4,
 "nbformat_minor": 5
}
